{
 "cells": [
  {
   "cell_type": "code",
   "execution_count": 1,
   "metadata": {},
   "outputs": [],
   "source": [
    "from pathlib import Path\n",
    "import re"
   ]
  },
  {
   "cell_type": "code",
   "execution_count": 78,
   "metadata": {},
   "outputs": [
    {
     "data": {
      "text/plain": [
       "8968"
      ]
     },
     "execution_count": 78,
     "metadata": {},
     "output_type": "execute_result"
    }
   ],
   "source": [
    "lines = Path('papers.md').read_text(encoding='utf-8-sig').splitlines()\n",
    "len(lines)"
   ]
  },
  {
   "cell_type": "code",
   "execution_count": 79,
   "metadata": {},
   "outputs": [
    {
     "data": {
      "text/plain": [
       "[(3458, 'Fine-tuning'),\n",
       " (3796, 'Transformers and RNN'),\n",
       " (3847, 'OOD'),\n",
       " (4049, 'Continual LLM'),\n",
       " (4061, 'Other TODO'),\n",
       " (4079, 'ASR'),\n",
       " (5336, 'CV: localization (detection, segmentation)'),\n",
       " (5697, 'CV: few-shot'),\n",
       " (5705, 'CV: Image editing'),\n",
       " (5737, 'CV: pretraining'),\n",
       " (5743, 'SSM, World models with CV, NLP'),\n",
       " (5857, 'NLP: interpreting, robustness, uncertainty, shortcuts'),\n",
       " (6397, 'Code generation'),\n",
       " (6442, 'Fundametals (various)')]"
      ]
     },
     "execution_count": 79,
     "metadata": {},
     "output_type": "execute_result"
    }
   ],
   "source": [
    "titles = [\n",
    "    (i, match.group(1))\n",
    "    for i, line in enumerate(lines)\n",
    "    if (match := re.fullmatch(r'## (.*)', line))\n",
    "    and not re.fullmatch(r'[0-9][0-9][0-9][0-9]', match.group(1))\n",
    "]\n",
    "titles"
   ]
  },
  {
   "cell_type": "code",
   "execution_count": 81,
   "metadata": {},
   "outputs": [],
   "source": [
    "paper_spans: list[tuple[int, int]] = []\n",
    "\n",
    "def is_note(line: str) -> bool:\n",
    "    return line.startswith('  ') or line.startswith('    ') or line.startswith('\\t')\n",
    "\n",
    "for i, line in enumerate(lines):\n",
    "    if re.fullmatch(r'[^ \\t].*([0-9][0-9][0-9][0-9].*)\\. .*', line):\n",
    "        j = i + 1\n",
    "        if len(lines[j].strip()) == 0 and is_note(lines[j + 1]):\n",
    "            j += 1\n",
    "        for j in range(j + 1, len(lines)):\n",
    "            if not is_note(lines[j]) and len(lines[j].strip()) > 0:\n",
    "                break\n",
    "        paper_spans.append((i, j))\n",
    "    elif re.fullmatch(r'@.*', line):\n",
    "        j = i + 1\n",
    "        for j in range(i + 1, len(lines)):\n",
    "            if len(lines[j].strip()) == 0:\n",
    "                break\n",
    "            if (\n",
    "                not lines[j].startswith('\\t')\n",
    "                and not lines[j].strip() == '}'\n",
    "                and not is_note(lines[j])\n",
    "            ):\n",
    "                break\n",
    "        paper_spans.append((i, j))\n",
    "    \n",
    "from itertools import pairwise\n",
    "for (a1, b1), (a2, b2) in pairwise(paper_spans):\n",
    "    assert b2 > a2 >= b1 > a1\n",
    "\n",
    "remaining_lines = lines\n",
    "for a, b in paper_spans[::-1]:\n",
    "    remaining_lines = remaining_lines[:a] + remaining_lines[b:]\n",
    "\n",
    "Path('remaining_lines.txt').write_text('\\n'.join(remaining_lines));"
   ]
  },
  {
   "cell_type": "code",
   "execution_count": 66,
   "metadata": {},
   "outputs": [
    {
     "data": {
      "text/plain": [
       "<re.Match object; span=(0, 20), match='@article{Qiu2019Nov,'>"
      ]
     },
     "execution_count": 66,
     "metadata": {},
     "output_type": "execute_result"
    }
   ],
   "source": [
    "re.fullmatch(r'@.*', lines[6795])"
   ]
  },
  {
   "cell_type": "code",
   "execution_count": null,
   "metadata": {},
   "outputs": [],
   "source": []
  }
 ],
 "metadata": {
  "kernelspec": {
   "display_name": "venv",
   "language": "python",
   "name": "python3"
  },
  "language_info": {
   "codemirror_mode": {
    "name": "ipython",
    "version": 3
   },
   "file_extension": ".py",
   "mimetype": "text/x-python",
   "name": "python",
   "nbconvert_exporter": "python",
   "pygments_lexer": "ipython3",
   "version": "3.12.3"
  }
 },
 "nbformat": 4,
 "nbformat_minor": 2
}